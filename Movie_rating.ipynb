{
 "cells": [
  {
   "cell_type": "code",
   "execution_count": 1,
   "id": "floating-conservative",
   "metadata": {},
   "outputs": [],
   "source": [
    "import pandas as pd\n",
    "import numpy as np\n",
    "import matplotlib.pyplot as plt\n",
    "import seaborn as sns\n",
    "%matplotlib inline"
   ]
  },
  {
   "cell_type": "markdown",
   "id": "clinical-america",
   "metadata": {},
   "source": [
    "# Data acquisition of the movielens dataset"
   ]
  },
  {
   "cell_type": "code",
   "execution_count": 2,
   "id": "quarterly-seller",
   "metadata": {},
   "outputs": [],
   "source": [
    "f=open(r\"C:\\Users\\Jyothis Yadu S\\Untitled Folder\\Projects\\Project4_Movielens\\users.dat\",encoding='utf-8')\n",
    "userlist=[]\n",
    "for i in f:\n",
    "    s=i.strip().split('::')\n",
    "    userlist.append(s)\n",
    "f.close()\n",
    "df_user=pd.DataFrame(userlist,columns=['UserID','Gender','Age','Occupation','Zip-code'])"
   ]
  },
  {
   "cell_type": "code",
   "execution_count": 3,
   "id": "prompt-clearing",
   "metadata": {},
   "outputs": [
    {
     "data": {
      "text/html": [
       "<div>\n",
       "<style scoped>\n",
       "    .dataframe tbody tr th:only-of-type {\n",
       "        vertical-align: middle;\n",
       "    }\n",
       "\n",
       "    .dataframe tbody tr th {\n",
       "        vertical-align: top;\n",
       "    }\n",
       "\n",
       "    .dataframe thead th {\n",
       "        text-align: right;\n",
       "    }\n",
       "</style>\n",
       "<table border=\"1\" class=\"dataframe\">\n",
       "  <thead>\n",
       "    <tr style=\"text-align: right;\">\n",
       "      <th></th>\n",
       "      <th>UserID</th>\n",
       "      <th>Gender</th>\n",
       "      <th>Age</th>\n",
       "      <th>Occupation</th>\n",
       "      <th>Zip-code</th>\n",
       "    </tr>\n",
       "  </thead>\n",
       "  <tbody>\n",
       "    <tr>\n",
       "      <th>0</th>\n",
       "      <td>1</td>\n",
       "      <td>F</td>\n",
       "      <td>1</td>\n",
       "      <td>10</td>\n",
       "      <td>48067</td>\n",
       "    </tr>\n",
       "    <tr>\n",
       "      <th>1</th>\n",
       "      <td>2</td>\n",
       "      <td>M</td>\n",
       "      <td>56</td>\n",
       "      <td>16</td>\n",
       "      <td>70072</td>\n",
       "    </tr>\n",
       "    <tr>\n",
       "      <th>2</th>\n",
       "      <td>3</td>\n",
       "      <td>M</td>\n",
       "      <td>25</td>\n",
       "      <td>15</td>\n",
       "      <td>55117</td>\n",
       "    </tr>\n",
       "    <tr>\n",
       "      <th>3</th>\n",
       "      <td>4</td>\n",
       "      <td>M</td>\n",
       "      <td>45</td>\n",
       "      <td>7</td>\n",
       "      <td>02460</td>\n",
       "    </tr>\n",
       "    <tr>\n",
       "      <th>4</th>\n",
       "      <td>5</td>\n",
       "      <td>M</td>\n",
       "      <td>25</td>\n",
       "      <td>20</td>\n",
       "      <td>55455</td>\n",
       "    </tr>\n",
       "    <tr>\n",
       "      <th>...</th>\n",
       "      <td>...</td>\n",
       "      <td>...</td>\n",
       "      <td>...</td>\n",
       "      <td>...</td>\n",
       "      <td>...</td>\n",
       "    </tr>\n",
       "    <tr>\n",
       "      <th>6035</th>\n",
       "      <td>6036</td>\n",
       "      <td>F</td>\n",
       "      <td>25</td>\n",
       "      <td>15</td>\n",
       "      <td>32603</td>\n",
       "    </tr>\n",
       "    <tr>\n",
       "      <th>6036</th>\n",
       "      <td>6037</td>\n",
       "      <td>F</td>\n",
       "      <td>45</td>\n",
       "      <td>1</td>\n",
       "      <td>76006</td>\n",
       "    </tr>\n",
       "    <tr>\n",
       "      <th>6037</th>\n",
       "      <td>6038</td>\n",
       "      <td>F</td>\n",
       "      <td>56</td>\n",
       "      <td>1</td>\n",
       "      <td>14706</td>\n",
       "    </tr>\n",
       "    <tr>\n",
       "      <th>6038</th>\n",
       "      <td>6039</td>\n",
       "      <td>F</td>\n",
       "      <td>45</td>\n",
       "      <td>0</td>\n",
       "      <td>01060</td>\n",
       "    </tr>\n",
       "    <tr>\n",
       "      <th>6039</th>\n",
       "      <td>6040</td>\n",
       "      <td>M</td>\n",
       "      <td>25</td>\n",
       "      <td>6</td>\n",
       "      <td>11106</td>\n",
       "    </tr>\n",
       "  </tbody>\n",
       "</table>\n",
       "<p>6040 rows × 5 columns</p>\n",
       "</div>"
      ],
      "text/plain": [
       "     UserID Gender Age Occupation Zip-code\n",
       "0         1      F   1         10    48067\n",
       "1         2      M  56         16    70072\n",
       "2         3      M  25         15    55117\n",
       "3         4      M  45          7    02460\n",
       "4         5      M  25         20    55455\n",
       "...     ...    ...  ..        ...      ...\n",
       "6035   6036      F  25         15    32603\n",
       "6036   6037      F  45          1    76006\n",
       "6037   6038      F  56          1    14706\n",
       "6038   6039      F  45          0    01060\n",
       "6039   6040      M  25          6    11106\n",
       "\n",
       "[6040 rows x 5 columns]"
      ]
     },
     "execution_count": 3,
     "metadata": {},
     "output_type": "execute_result"
    }
   ],
   "source": [
    "df_user"
   ]
  },
  {
   "cell_type": "code",
   "execution_count": 4,
   "id": "matched-project",
   "metadata": {},
   "outputs": [],
   "source": [
    "r=open(r\"C:\\Users\\Jyothis Yadu S\\Untitled Folder\\Projects\\Project4_Movielens\\ratings.dat\",encoding='utf-8')\n",
    "ratinglist=[]\n",
    "for i in r:\n",
    "    s=i.strip().split('::')\n",
    "    ratinglist.append(s)\n",
    "r.close()\n",
    "df_rating=pd.DataFrame(ratinglist,columns=['UserID','MovieID','Rating','Timestamp'])"
   ]
  },
  {
   "cell_type": "code",
   "execution_count": 5,
   "id": "supreme-testament",
   "metadata": {},
   "outputs": [
    {
     "data": {
      "text/html": [
       "<div>\n",
       "<style scoped>\n",
       "    .dataframe tbody tr th:only-of-type {\n",
       "        vertical-align: middle;\n",
       "    }\n",
       "\n",
       "    .dataframe tbody tr th {\n",
       "        vertical-align: top;\n",
       "    }\n",
       "\n",
       "    .dataframe thead th {\n",
       "        text-align: right;\n",
       "    }\n",
       "</style>\n",
       "<table border=\"1\" class=\"dataframe\">\n",
       "  <thead>\n",
       "    <tr style=\"text-align: right;\">\n",
       "      <th></th>\n",
       "      <th>UserID</th>\n",
       "      <th>MovieID</th>\n",
       "      <th>Rating</th>\n",
       "      <th>Timestamp</th>\n",
       "    </tr>\n",
       "  </thead>\n",
       "  <tbody>\n",
       "    <tr>\n",
       "      <th>0</th>\n",
       "      <td>1</td>\n",
       "      <td>1193</td>\n",
       "      <td>5</td>\n",
       "      <td>978300760</td>\n",
       "    </tr>\n",
       "    <tr>\n",
       "      <th>1</th>\n",
       "      <td>1</td>\n",
       "      <td>661</td>\n",
       "      <td>3</td>\n",
       "      <td>978302109</td>\n",
       "    </tr>\n",
       "    <tr>\n",
       "      <th>2</th>\n",
       "      <td>1</td>\n",
       "      <td>914</td>\n",
       "      <td>3</td>\n",
       "      <td>978301968</td>\n",
       "    </tr>\n",
       "    <tr>\n",
       "      <th>3</th>\n",
       "      <td>1</td>\n",
       "      <td>3408</td>\n",
       "      <td>4</td>\n",
       "      <td>978300275</td>\n",
       "    </tr>\n",
       "    <tr>\n",
       "      <th>4</th>\n",
       "      <td>1</td>\n",
       "      <td>2355</td>\n",
       "      <td>5</td>\n",
       "      <td>978824291</td>\n",
       "    </tr>\n",
       "    <tr>\n",
       "      <th>...</th>\n",
       "      <td>...</td>\n",
       "      <td>...</td>\n",
       "      <td>...</td>\n",
       "      <td>...</td>\n",
       "    </tr>\n",
       "    <tr>\n",
       "      <th>1000204</th>\n",
       "      <td>6040</td>\n",
       "      <td>1091</td>\n",
       "      <td>1</td>\n",
       "      <td>956716541</td>\n",
       "    </tr>\n",
       "    <tr>\n",
       "      <th>1000205</th>\n",
       "      <td>6040</td>\n",
       "      <td>1094</td>\n",
       "      <td>5</td>\n",
       "      <td>956704887</td>\n",
       "    </tr>\n",
       "    <tr>\n",
       "      <th>1000206</th>\n",
       "      <td>6040</td>\n",
       "      <td>562</td>\n",
       "      <td>5</td>\n",
       "      <td>956704746</td>\n",
       "    </tr>\n",
       "    <tr>\n",
       "      <th>1000207</th>\n",
       "      <td>6040</td>\n",
       "      <td>1096</td>\n",
       "      <td>4</td>\n",
       "      <td>956715648</td>\n",
       "    </tr>\n",
       "    <tr>\n",
       "      <th>1000208</th>\n",
       "      <td>6040</td>\n",
       "      <td>1097</td>\n",
       "      <td>4</td>\n",
       "      <td>956715569</td>\n",
       "    </tr>\n",
       "  </tbody>\n",
       "</table>\n",
       "<p>1000209 rows × 4 columns</p>\n",
       "</div>"
      ],
      "text/plain": [
       "        UserID MovieID Rating  Timestamp\n",
       "0            1    1193      5  978300760\n",
       "1            1     661      3  978302109\n",
       "2            1     914      3  978301968\n",
       "3            1    3408      4  978300275\n",
       "4            1    2355      5  978824291\n",
       "...        ...     ...    ...        ...\n",
       "1000204   6040    1091      1  956716541\n",
       "1000205   6040    1094      5  956704887\n",
       "1000206   6040     562      5  956704746\n",
       "1000207   6040    1096      4  956715648\n",
       "1000208   6040    1097      4  956715569\n",
       "\n",
       "[1000209 rows x 4 columns]"
      ]
     },
     "execution_count": 5,
     "metadata": {},
     "output_type": "execute_result"
    }
   ],
   "source": [
    "df_rating"
   ]
  },
  {
   "cell_type": "code",
   "execution_count": 6,
   "id": "posted-command",
   "metadata": {},
   "outputs": [],
   "source": [
    "m=open(r\"C:\\Users\\Jyothis Yadu S\\Untitled Folder\\Projects\\Project4_Movielens\\movies.dat\",encoding='latin1')\n",
    "movielist=[]\n",
    "for i in m:\n",
    "    s=i.strip().split('::')\n",
    "    movielist.append(s)\n",
    "m.close()\n",
    "df_movie=pd.DataFrame(movielist,columns=['MovieID','Title','Genres'])"
   ]
  },
  {
   "cell_type": "code",
   "execution_count": 7,
   "id": "lasting-petersburg",
   "metadata": {},
   "outputs": [
    {
     "data": {
      "text/html": [
       "<div>\n",
       "<style scoped>\n",
       "    .dataframe tbody tr th:only-of-type {\n",
       "        vertical-align: middle;\n",
       "    }\n",
       "\n",
       "    .dataframe tbody tr th {\n",
       "        vertical-align: top;\n",
       "    }\n",
       "\n",
       "    .dataframe thead th {\n",
       "        text-align: right;\n",
       "    }\n",
       "</style>\n",
       "<table border=\"1\" class=\"dataframe\">\n",
       "  <thead>\n",
       "    <tr style=\"text-align: right;\">\n",
       "      <th></th>\n",
       "      <th>MovieID</th>\n",
       "      <th>Title</th>\n",
       "      <th>Genres</th>\n",
       "    </tr>\n",
       "  </thead>\n",
       "  <tbody>\n",
       "    <tr>\n",
       "      <th>0</th>\n",
       "      <td>1</td>\n",
       "      <td>Toy Story (1995)</td>\n",
       "      <td>Animation|Children's|Comedy</td>\n",
       "    </tr>\n",
       "    <tr>\n",
       "      <th>1</th>\n",
       "      <td>2</td>\n",
       "      <td>Jumanji (1995)</td>\n",
       "      <td>Adventure|Children's|Fantasy</td>\n",
       "    </tr>\n",
       "    <tr>\n",
       "      <th>2</th>\n",
       "      <td>3</td>\n",
       "      <td>Grumpier Old Men (1995)</td>\n",
       "      <td>Comedy|Romance</td>\n",
       "    </tr>\n",
       "    <tr>\n",
       "      <th>3</th>\n",
       "      <td>4</td>\n",
       "      <td>Waiting to Exhale (1995)</td>\n",
       "      <td>Comedy|Drama</td>\n",
       "    </tr>\n",
       "    <tr>\n",
       "      <th>4</th>\n",
       "      <td>5</td>\n",
       "      <td>Father of the Bride Part II (1995)</td>\n",
       "      <td>Comedy</td>\n",
       "    </tr>\n",
       "    <tr>\n",
       "      <th>...</th>\n",
       "      <td>...</td>\n",
       "      <td>...</td>\n",
       "      <td>...</td>\n",
       "    </tr>\n",
       "    <tr>\n",
       "      <th>3878</th>\n",
       "      <td>3948</td>\n",
       "      <td>Meet the Parents (2000)</td>\n",
       "      <td>Comedy</td>\n",
       "    </tr>\n",
       "    <tr>\n",
       "      <th>3879</th>\n",
       "      <td>3949</td>\n",
       "      <td>Requiem for a Dream (2000)</td>\n",
       "      <td>Drama</td>\n",
       "    </tr>\n",
       "    <tr>\n",
       "      <th>3880</th>\n",
       "      <td>3950</td>\n",
       "      <td>Tigerland (2000)</td>\n",
       "      <td>Drama</td>\n",
       "    </tr>\n",
       "    <tr>\n",
       "      <th>3881</th>\n",
       "      <td>3951</td>\n",
       "      <td>Two Family House (2000)</td>\n",
       "      <td>Drama</td>\n",
       "    </tr>\n",
       "    <tr>\n",
       "      <th>3882</th>\n",
       "      <td>3952</td>\n",
       "      <td>Contender, The (2000)</td>\n",
       "      <td>Drama|Thriller</td>\n",
       "    </tr>\n",
       "  </tbody>\n",
       "</table>\n",
       "<p>3883 rows × 3 columns</p>\n",
       "</div>"
      ],
      "text/plain": [
       "     MovieID                               Title                        Genres\n",
       "0          1                    Toy Story (1995)   Animation|Children's|Comedy\n",
       "1          2                      Jumanji (1995)  Adventure|Children's|Fantasy\n",
       "2          3             Grumpier Old Men (1995)                Comedy|Romance\n",
       "3          4            Waiting to Exhale (1995)                  Comedy|Drama\n",
       "4          5  Father of the Bride Part II (1995)                        Comedy\n",
       "...      ...                                 ...                           ...\n",
       "3878    3948             Meet the Parents (2000)                        Comedy\n",
       "3879    3949          Requiem for a Dream (2000)                         Drama\n",
       "3880    3950                    Tigerland (2000)                         Drama\n",
       "3881    3951             Two Family House (2000)                         Drama\n",
       "3882    3952               Contender, The (2000)                Drama|Thriller\n",
       "\n",
       "[3883 rows x 3 columns]"
      ]
     },
     "execution_count": 7,
     "metadata": {},
     "output_type": "execute_result"
    }
   ],
   "source": [
    "df_movie"
   ]
  },
  {
   "cell_type": "markdown",
   "id": "weighted-sacrifice",
   "metadata": {},
   "source": [
    "# EDA"
   ]
  },
  {
   "cell_type": "code",
   "execution_count": 8,
   "id": "unauthorized-serve",
   "metadata": {},
   "outputs": [],
   "source": [
    "#Missing Value "
   ]
  },
  {
   "cell_type": "code",
   "execution_count": 9,
   "id": "hydraulic-register",
   "metadata": {},
   "outputs": [
    {
     "data": {
      "text/plain": [
       "UserID        0\n",
       "Gender        0\n",
       "Age           0\n",
       "Occupation    0\n",
       "Zip-code      0\n",
       "dtype: int64"
      ]
     },
     "execution_count": 9,
     "metadata": {},
     "output_type": "execute_result"
    }
   ],
   "source": [
    "df_user.isnull().sum()"
   ]
  },
  {
   "cell_type": "code",
   "execution_count": 10,
   "id": "automotive-softball",
   "metadata": {},
   "outputs": [
    {
     "data": {
      "text/plain": [
       "UserID       0\n",
       "MovieID      0\n",
       "Rating       0\n",
       "Timestamp    0\n",
       "dtype: int64"
      ]
     },
     "execution_count": 10,
     "metadata": {},
     "output_type": "execute_result"
    }
   ],
   "source": [
    "df_rating.isnull().sum()"
   ]
  },
  {
   "cell_type": "code",
   "execution_count": 11,
   "id": "alternate-prague",
   "metadata": {},
   "outputs": [
    {
     "data": {
      "text/plain": [
       "MovieID    0\n",
       "Title      0\n",
       "Genres     0\n",
       "dtype: int64"
      ]
     },
     "execution_count": 11,
     "metadata": {},
     "output_type": "execute_result"
    }
   ],
   "source": [
    "df_movie.isnull().sum()"
   ]
  },
  {
   "cell_type": "code",
   "execution_count": 12,
   "id": "heavy-glory",
   "metadata": {},
   "outputs": [],
   "source": [
    "user_rating=pd.merge(df_user,df_rating,how='outer',on='UserID')"
   ]
  },
  {
   "cell_type": "code",
   "execution_count": 13,
   "id": "extra-district",
   "metadata": {},
   "outputs": [],
   "source": [
    "user_rating_movie=pd.merge(user_rating,df_movie,how='outer',on='MovieID')"
   ]
  },
  {
   "cell_type": "code",
   "execution_count": 15,
   "id": "unnecessary-factor",
   "metadata": {},
   "outputs": [],
   "source": [
    "#Visualize user age distribution"
   ]
  },
  {
   "cell_type": "code",
   "execution_count": 16,
   "id": "international-stadium",
   "metadata": {},
   "outputs": [
    {
     "name": "stderr",
     "output_type": "stream",
     "text": [
      "D:\\Anaconda\\lib\\site-packages\\seaborn\\distributions.py:2557: FutureWarning: `distplot` is a deprecated function and will be removed in a future version. Please adapt your code to use either `displot` (a figure-level function with similar flexibility) or `histplot` (an axes-level function for histograms).\n",
      "  warnings.warn(msg, FutureWarning)\n"
     ]
    },
    {
     "data": {
      "image/png": "[encoded data removed]",
      "text/plain": [
       "<Figure size 432x288 with 1 Axes>"
      ]
     },
     "metadata": {
      "needs_background": "light"
     },
     "output_type": "display_data"
    }
   ],
   "source": [
    "bin_list=[1,18,25,35,45,50,56,60]\n",
    "sns.distplot(user_rating_movie['Age'],bins=bin_list)\n",
    "plt.xlabel('Age')\n",
    "plt.ylabel('Number of Users')\n",
    "plt.title('User Age Distribution')\n",
    "plt.show()"
   ]
  },
  {
   "cell_type": "code",
   "execution_count": 17,
   "id": "recorded-cleaning",
   "metadata": {},
   "outputs": [],
   "source": [
    "#Visualize overall rating by users"
   ]
  },
  {
   "cell_type": "code",
   "execution_count": 18,
   "id": "least-kidney",
   "metadata": {},
   "outputs": [
    {
     "data": {
      "text/plain": [
       "<function matplotlib.pyplot.show(*args, **kw)>"
      ]
     },
     "execution_count": 18,
     "metadata": {},
     "output_type": "execute_result"
    },
    {
     "data": {
      "image/png": "[encoded data removed]",
      "text/plain": [
       "<Figure size 576x504 with 1 Axes>"
      ]
     },
     "metadata": {
      "needs_background": "light"
     },
     "output_type": "display_data"
    }
   ],
   "source": [
    "user_rating_movie.groupby('Rating')['UserID'].count().plot(kind = 'bar',figsize = (8,7))\n",
    "plt.xlabel('Rating')\n",
    "plt.ylabel('Number of Users')\n",
    "plt.title('Visualization of Overall ratings by users')\n",
    "plt.show"
   ]
  },
  {
   "cell_type": "code",
   "execution_count": 19,
   "id": "german-extra",
   "metadata": {},
   "outputs": [],
   "source": [
    "#Find and visualize the user rating of the movie “Toy Story”"
   ]
  },
  {
   "cell_type": "code",
   "execution_count": 20,
   "id": "correct-instrumentation",
   "metadata": {},
   "outputs": [
    {
     "data": {
      "text/plain": [
       "<function matplotlib.pyplot.show(*args, **kw)>"
      ]
     },
     "execution_count": 20,
     "metadata": {},
     "output_type": "execute_result"
    },
    {
     "data": {
      "image/png": "[encoded data removed]",
      "text/plain": [
       "<Figure size 576x504 with 1 Axes>"
      ]
     },
     "metadata": {
      "needs_background": "light"
     },
     "output_type": "display_data"
    }
   ],
   "source": [
    "user_rating_movie[user_rating_movie.Title == 'Toy Story (1995)'].groupby('Rating')['UserID'].count().plot(kind = 'bar',figsize = (8,7))\n",
    "plt.xlabel('Rating')\n",
    "plt.ylabel('Number of Users')\n",
    "plt.title('Visualization of User Rating of Toy Story')\n",
    "plt.show"
   ]
  },
  {
   "cell_type": "code",
   "execution_count": 21,
   "id": "binary-anchor",
   "metadata": {},
   "outputs": [],
   "source": [
    "#Find and visualize the viewership of the movie “Toy Story” by age group"
   ]
  },
  {
   "cell_type": "code",
   "execution_count": 22,
   "id": "clear-guinea",
   "metadata": {},
   "outputs": [
    {
     "data": {
      "text/plain": [
       "<function matplotlib.pyplot.show(*args, **kw)>"
      ]
     },
     "execution_count": 22,
     "metadata": {},
     "output_type": "execute_result"
    },
    {
     "data": {
      "image/png": "[encoded data removed]",
      "text/plain": [
       "<Figure size 432x360 with 1 Axes>"
      ]
     },
     "metadata": {
      "needs_background": "light"
     },
     "output_type": "display_data"
    }
   ],
   "source": [
    "user_rating_movie[user_rating_movie.Title == 'Toy Story (1995)'].groupby('Age')['MovieID'].count().plot(kind = 'barh',figsize = (6,5))\n",
    "plt.xlabel('Rating')\n",
    "plt.ylabel('Age Group of Users in Population')\n",
    "plt.title('Visualization of User Age Group Rating of Toy Story')\n",
    "plt.show"
   ]
  },
  {
   "cell_type": "code",
   "execution_count": 23,
   "id": "digital-bibliography",
   "metadata": {},
   "outputs": [],
   "source": [
    "#Find and visualize the top 25 movies by viewership rating"
   ]
  },
  {
   "cell_type": "code",
   "execution_count": 24,
   "id": "downtown-better",
   "metadata": {},
   "outputs": [
    {
     "data": {
      "text/plain": [
       "<function matplotlib.pyplot.show(*args, **kw)>"
      ]
     },
     "execution_count": 24,
     "metadata": {},
     "output_type": "execute_result"
    },
    {
     "data": {
      "image/png": "[encoded data removed]",
      "text/plain": [
       "<Figure size 720x648 with 1 Axes>"
      ]
     },
     "metadata": {
      "needs_background": "light"
     },
     "output_type": "display_data"
    }
   ],
   "source": [
    "user_rating_movie.groupby('Title')['Rating'].count().sort_values(ascending = False)[:25].plot(kind ='barh',figsize = (10,9))\n",
    "plt.xlabel('Rating')\n",
    "plt.ylabel('Top 25 Movies')\n",
    "plt.title('Visualization of Top 25 Movies Viewership Rating')\n",
    "plt.show"
   ]
  },
  {
   "cell_type": "code",
   "execution_count": 25,
   "id": "alone-crystal",
   "metadata": {},
   "outputs": [],
   "source": [
    "#Find the rating for a particular user of user id = 2696"
   ]
  },
  {
   "cell_type": "code",
   "execution_count": 26,
   "id": "worse-voltage",
   "metadata": {},
   "outputs": [
    {
     "data": {
      "text/plain": [
       "<function matplotlib.pyplot.show(*args, **kw)>"
      ]
     },
     "execution_count": 26,
     "metadata": {},
     "output_type": "execute_result"
    },
    {
     "data": {
      "image/png": "[encoded data removed]",
      "text/plain": [
       "<Figure size 432x360 with 1 Axes>"
      ]
     },
     "metadata": {
      "needs_background": "light"
     },
     "output_type": "display_data"
    }
   ],
   "source": [
    "user_rating_movie[user_rating_movie.UserID == '2696'].groupby('Rating')['MovieID'].count().plot(kind = 'bar',figsize = (6,5))\n",
    "plt.title('Movie Ratings of UserID 2696')\n",
    "plt.ylabel(\"Count\")\n",
    "plt.xlabel(\"Rating\")\n",
    "plt.show"
   ]
  },
  {
   "cell_type": "markdown",
   "id": "controlling-bailey",
   "metadata": {},
   "source": [
    "# Perform machine learning on first 500 extracted records"
   ]
  },
  {
   "cell_type": "code",
   "execution_count": 34,
   "id": "patient-parker",
   "metadata": {},
   "outputs": [],
   "source": [
    "viewership=pd.merge(df_rating,df_user,on='UserID')"
   ]
  },
  {
   "cell_type": "code",
   "execution_count": 35,
   "id": "convenient-divorce",
   "metadata": {},
   "outputs": [],
   "source": [
    "few_viewership=viewership.head(500)"
   ]
  },
  {
   "cell_type": "code",
   "execution_count": 37,
   "id": "valuable-satellite",
   "metadata": {},
   "outputs": [
    {
     "data": {
      "text/html": [
       "<div>\n",
       "<style scoped>\n",
       "    .dataframe tbody tr th:only-of-type {\n",
       "        vertical-align: middle;\n",
       "    }\n",
       "\n",
       "    .dataframe tbody tr th {\n",
       "        vertical-align: top;\n",
       "    }\n",
       "\n",
       "    .dataframe thead th {\n",
       "        text-align: right;\n",
       "    }\n",
       "</style>\n",
       "<table border=\"1\" class=\"dataframe\">\n",
       "  <thead>\n",
       "    <tr style=\"text-align: right;\">\n",
       "      <th></th>\n",
       "      <th>UserID</th>\n",
       "      <th>MovieID</th>\n",
       "      <th>Rating</th>\n",
       "      <th>Timestamp</th>\n",
       "      <th>Gender</th>\n",
       "      <th>Age</th>\n",
       "      <th>Occupation</th>\n",
       "      <th>Zip-code</th>\n",
       "    </tr>\n",
       "  </thead>\n",
       "  <tbody>\n",
       "    <tr>\n",
       "      <th>0</th>\n",
       "      <td>1</td>\n",
       "      <td>1193</td>\n",
       "      <td>5</td>\n",
       "      <td>978300760</td>\n",
       "      <td>F</td>\n",
       "      <td>1</td>\n",
       "      <td>10</td>\n",
       "      <td>48067</td>\n",
       "    </tr>\n",
       "    <tr>\n",
       "      <th>1</th>\n",
       "      <td>1</td>\n",
       "      <td>661</td>\n",
       "      <td>3</td>\n",
       "      <td>978302109</td>\n",
       "      <td>F</td>\n",
       "      <td>1</td>\n",
       "      <td>10</td>\n",
       "      <td>48067</td>\n",
       "    </tr>\n",
       "    <tr>\n",
       "      <th>2</th>\n",
       "      <td>1</td>\n",
       "      <td>914</td>\n",
       "      <td>3</td>\n",
       "      <td>978301968</td>\n",
       "      <td>F</td>\n",
       "      <td>1</td>\n",
       "      <td>10</td>\n",
       "      <td>48067</td>\n",
       "    </tr>\n",
       "    <tr>\n",
       "      <th>3</th>\n",
       "      <td>1</td>\n",
       "      <td>3408</td>\n",
       "      <td>4</td>\n",
       "      <td>978300275</td>\n",
       "      <td>F</td>\n",
       "      <td>1</td>\n",
       "      <td>10</td>\n",
       "      <td>48067</td>\n",
       "    </tr>\n",
       "    <tr>\n",
       "      <th>4</th>\n",
       "      <td>1</td>\n",
       "      <td>2355</td>\n",
       "      <td>5</td>\n",
       "      <td>978824291</td>\n",
       "      <td>F</td>\n",
       "      <td>1</td>\n",
       "      <td>10</td>\n",
       "      <td>48067</td>\n",
       "    </tr>\n",
       "  </tbody>\n",
       "</table>\n",
       "</div>"
      ],
      "text/plain": [
       "  UserID MovieID Rating  Timestamp Gender Age Occupation Zip-code\n",
       "0      1    1193      5  978300760      F   1         10    48067\n",
       "1      1     661      3  978302109      F   1         10    48067\n",
       "2      1     914      3  978301968      F   1         10    48067\n",
       "3      1    3408      4  978300275      F   1         10    48067\n",
       "4      1    2355      5  978824291      F   1         10    48067"
      ]
     },
     "execution_count": 37,
     "metadata": {},
     "output_type": "execute_result"
    }
   ],
   "source": [
    "few_viewership.head()"
   ]
  },
  {
   "cell_type": "code",
   "execution_count": 29,
   "id": "interstate-finland",
   "metadata": {},
   "outputs": [],
   "source": [
    "from sklearn.preprocessing import LabelEncoder"
   ]
  },
  {
   "cell_type": "code",
   "execution_count": 30,
   "id": "athletic-venice",
   "metadata": {},
   "outputs": [],
   "source": [
    "le=LabelEncoder()"
   ]
  },
  {
   "cell_type": "code",
   "execution_count": null,
   "id": "exciting-idaho",
   "metadata": {},
   "outputs": [],
   "source": [
    "#Feature for MovieID"
   ]
  },
  {
   "cell_type": "code",
   "execution_count": 39,
   "id": "considerable-aviation",
   "metadata": {},
   "outputs": [
    {
     "data": {
      "text/plain": [
       "array([ 31, 391, 408, 301, 194,  33,  57, 239, 383, 409, 384, 411, 201,\n",
       "       250,   6, 236, 221, 159, 278, 237, 187, 393,  55, 373, 191, 363,\n",
       "        19, 117,  88, 397, 184, 288,  91, 379, 138, 399, 133,   2, 234,\n",
       "        78,   0, 151, 152, 222, 215,   3,   4,  36, 161, 374, 282, 387,\n",
       "        46,  62, 269,  86, 388, 175, 389, 178, 218,  22, 249, 306,  37,\n",
       "       129, 111,  38, 324, 245, 265,  40, 278, 357, 170, 279, 280, 266,\n",
       "        49,  97, 251, 176, 270, 405, 335,  50, 283,  87,  59,  28, 292,\n",
       "       293, 294,  20, 179, 208, 132, 307, 380, 113, 332, 241, 145, 414,\n",
       "       134, 242,  41, 161, 371, 358, 185, 219,  71,  13, 338, 364,  74,\n",
       "       164,  52,  63,  31, 131,  64, 193, 298, 204, 381,  32,  89, 396,\n",
       "        34, 382, 195, 412, 225, 212, 141, 200, 342, 147,  95, 350, 148,\n",
       "       149, 192,  23, 150, 101, 168, 106, 187,  15, 349, 209, 310, 359,\n",
       "        18, 410, 360,  83, 303,  67, 305, 276, 398, 366, 230, 155, 152,\n",
       "       127, 252, 156, 287,  36, 154, 334,  44, 322,  45,  46, 353,  47,\n",
       "       304, 103, 389,  70, 319,   8, 232,  37,  73, 352,  12, 261,  98,\n",
       "        58,  50, 390, 173,  93, 329, 215, 242, 282,  11,  51, 376, 364,\n",
       "        52,  53, 395,  32, 381, 194,  33,  34,  65, 382,  66, 321,  61,\n",
       "        55, 207, 285, 217, 151, 333, 156, 243, 169, 154,  25, 166, 306,\n",
       "        37, 254,  39,   7, 215, 161, 364,  32,  34, 148,  19, 303, 339,\n",
       "       196,  68, 317,  35, 222, 253,  42, 259, 189,  27, 354, 244, 190,\n",
       "        85,  69, 178,  76, 402, 109, 403, 110, 249, 235, 171, 125, 368,\n",
       "       324, 369,  48, 347, 370, 355,  97, 163, 348, 261, 362, 223, 257,\n",
       "       378,  99, 394, 260, 273, 211, 139,  78, 177, 341, 182, 386, 262,\n",
       "       242,  10, 371, 400, 367, 372,  29,  30, 395, 274, 345, 193,  54,\n",
       "       275, 204, 314, 205, 194, 180, 315,  90, 140, 382, 195, 224,  77,\n",
       "       225, 212, 181, 100,  24, 263, 165, 114, 284, 206, 183, 102,  56,\n",
       "       227, 228, 142, 229, 143, 213, 299, 343, 413, 404, 264, 128, 287,\n",
       "       126, 361, 387,  72, 172, 115, 104, 291, 286, 116, 240, 231, 105,\n",
       "       290, 157, 277, 255,  38, 130, 214,  79, 278, 256,  80, 117, 118,\n",
       "       107, 406,  93, 108, 197, 119, 308, 246, 281, 161,  96, 219, 162,\n",
       "       144, 375,  81, 267, 186,  82,  14, 295, 407, 120, 301, 302, 216,\n",
       "        75, 121, 122, 198, 123, 296, 297, 409, 330, 199,  94, 220, 356,\n",
       "       233, 415, 135, 136, 226, 202, 268, 309, 188,  16, 247, 377,  17,\n",
       "        83,  84, 303, 174, 365, 160, 124, 248, 234, 222, 153, 311, 318,\n",
       "       289,  43, 137,  26, 346, 300, 322, 323, 325, 392, 203,  21, 340,\n",
       "         5, 112,   6, 324, 331, 312, 271, 335, 257, 363, 272,  28, 313,\n",
       "       379,   0,   9, 242, 345, 381, 384, 385, 351, 210, 316,  91,  92,\n",
       "       156, 166, 167, 326, 327, 238, 319, 320,  37, 344, 336, 158, 337,\n",
       "       328,  60, 401,   1, 146, 258])"
      ]
     },
     "execution_count": 39,
     "metadata": {},
     "output_type": "execute_result"
    }
   ],
   "source": [
    "le.fit(few_viewership['MovieID'])\n",
    "x_movie= le.transform(few_viewership['MovieID'])\n",
    "x_movie"
   ]
  },
  {
   "cell_type": "code",
   "execution_count": 32,
   "id": "ultimate-emergency",
   "metadata": {},
   "outputs": [],
   "source": [
    "#Feature for Age"
   ]
  },
  {
   "cell_type": "code",
   "execution_count": 40,
   "id": "automatic-accordance",
   "metadata": {},
   "outputs": [
    {
     "data": {
      "text/plain": [
       "array([0, 0, 0, 0, 0, 0, 0, 0, 0, 0, 0, 0, 0, 0, 0, 0, 0, 0, 0, 0, 0, 0,\n",
       "       0, 0, 0, 0, 0, 0, 0, 0, 0, 0, 0, 0, 0, 0, 0, 0, 0, 0, 0, 0, 0, 0,\n",
       "       0, 0, 0, 0, 0, 0, 0, 0, 0, 4, 4, 4, 4, 4, 4, 4, 4, 4, 4, 4, 4, 4,\n",
       "       4, 4, 4, 4, 4, 4, 4, 4, 4, 4, 4, 4, 4, 4, 4, 4, 4, 4, 4, 4, 4, 4,\n",
       "       4, 4, 4, 4, 4, 4, 4, 4, 4, 4, 4, 4, 4, 4, 4, 4, 4, 4, 4, 4, 4, 4,\n",
       "       4, 4, 4, 4, 4, 4, 4, 4, 4, 4, 4, 4, 4, 4, 4, 4, 4, 4, 4, 4, 4, 4,\n",
       "       4, 4, 4, 4, 4, 4, 4, 4, 4, 4, 4, 4, 4, 4, 4, 4, 4, 4, 4, 4, 4, 4,\n",
       "       4, 4, 4, 4, 4, 4, 4, 4, 4, 4, 4, 4, 4, 4, 4, 4, 4, 4, 4, 4, 4, 4,\n",
       "       4, 4, 4, 4, 4, 4, 1, 1, 1, 1, 1, 1, 1, 1, 1, 1, 1, 1, 1, 1, 1, 1,\n",
       "       1, 1, 1, 1, 1, 1, 1, 1, 1, 1, 1, 1, 1, 1, 1, 1, 1, 1, 1, 1, 1, 1,\n",
       "       1, 1, 1, 1, 1, 1, 1, 1, 1, 1, 1, 1, 1, 2, 2, 2, 2, 2, 2, 2, 2, 2,\n",
       "       2, 2, 2, 2, 2, 2, 2, 2, 2, 2, 2, 2, 1, 1, 1, 1, 1, 1, 1, 1, 1, 1,\n",
       "       1, 1, 1, 1, 1, 1, 1, 1, 1, 1, 1, 1, 1, 1, 1, 1, 1, 1, 1, 1, 1, 1,\n",
       "       1, 1, 1, 1, 1, 1, 1, 1, 1, 1, 1, 1, 1, 1, 1, 1, 1, 1, 1, 1, 1, 1,\n",
       "       1, 1, 1, 1, 1, 1, 1, 1, 1, 1, 1, 1, 1, 1, 1, 1, 1, 1, 1, 1, 1, 1,\n",
       "       1, 1, 1, 1, 1, 1, 1, 1, 1, 1, 1, 1, 1, 1, 1, 1, 1, 1, 1, 1, 1, 1,\n",
       "       1, 1, 1, 1, 1, 1, 1, 1, 1, 1, 1, 1, 1, 1, 1, 1, 1, 1, 1, 1, 1, 1,\n",
       "       1, 1, 1, 1, 1, 1, 1, 1, 1, 1, 1, 1, 1, 1, 1, 1, 1, 1, 1, 1, 1, 1,\n",
       "       1, 1, 1, 1, 1, 1, 1, 1, 1, 1, 1, 1, 1, 1, 1, 1, 1, 1, 1, 1, 1, 1,\n",
       "       1, 1, 1, 1, 1, 1, 1, 1, 1, 1, 1, 1, 1, 1, 1, 1, 1, 1, 1, 1, 1, 1,\n",
       "       1, 1, 1, 1, 1, 1, 1, 1, 1, 1, 1, 1, 3, 3, 3, 3, 3, 3, 3, 3, 3, 3,\n",
       "       3, 3, 3, 3, 3, 3, 3, 3, 3, 3, 3, 3, 3, 3, 3, 3, 3, 3, 3, 3, 3, 3,\n",
       "       3, 3, 3, 3, 3, 3, 3, 3, 3, 3, 3, 3, 3, 3, 3, 3])"
      ]
     },
     "execution_count": 40,
     "metadata": {},
     "output_type": "execute_result"
    }
   ],
   "source": [
    "le.fit(few_viewership['Age'])\n",
    "x_age= le.transform(few_viewership['Age'])\n",
    "x_age"
   ]
  },
  {
   "cell_type": "code",
   "execution_count": 41,
   "id": "blind-leeds",
   "metadata": {},
   "outputs": [],
   "source": [
    "#Feature for Occupation"
   ]
  },
  {
   "cell_type": "code",
   "execution_count": 42,
   "id": "exterior-tribe",
   "metadata": {},
   "outputs": [
    {
     "data": {
      "text/plain": [
       "array([0, 0, 0, 0, 0, 0, 0, 0, 0, 0, 0, 0, 0, 0, 0, 0, 0, 0, 0, 0, 0, 0,\n",
       "       0, 0, 0, 0, 0, 0, 0, 0, 0, 0, 0, 0, 0, 0, 0, 0, 0, 0, 0, 0, 0, 0,\n",
       "       0, 0, 0, 0, 0, 0, 0, 0, 0, 2, 2, 2, 2, 2, 2, 2, 2, 2, 2, 2, 2, 2,\n",
       "       2, 2, 2, 2, 2, 2, 2, 2, 2, 2, 2, 2, 2, 2, 2, 2, 2, 2, 2, 2, 2, 2,\n",
       "       2, 2, 2, 2, 2, 2, 2, 2, 2, 2, 2, 2, 2, 2, 2, 2, 2, 2, 2, 2, 2, 2,\n",
       "       2, 2, 2, 2, 2, 2, 2, 2, 2, 2, 2, 2, 2, 2, 2, 2, 2, 2, 2, 2, 2, 2,\n",
       "       2, 2, 2, 2, 2, 2, 2, 2, 2, 2, 2, 2, 2, 2, 2, 2, 2, 2, 2, 2, 2, 2,\n",
       "       2, 2, 2, 2, 2, 2, 2, 2, 2, 2, 2, 2, 2, 2, 2, 2, 2, 2, 2, 2, 2, 2,\n",
       "       2, 2, 2, 2, 2, 2, 1, 1, 1, 1, 1, 1, 1, 1, 1, 1, 1, 1, 1, 1, 1, 1,\n",
       "       1, 1, 1, 1, 1, 1, 1, 1, 1, 1, 1, 1, 1, 1, 1, 1, 1, 1, 1, 1, 1, 1,\n",
       "       1, 1, 1, 1, 1, 1, 1, 1, 1, 1, 1, 1, 1, 4, 4, 4, 4, 4, 4, 4, 4, 4,\n",
       "       4, 4, 4, 4, 4, 4, 4, 4, 4, 4, 4, 4, 3, 3, 3, 3, 3, 3, 3, 3, 3, 3,\n",
       "       3, 3, 3, 3, 3, 3, 3, 3, 3, 3, 3, 3, 3, 3, 3, 3, 3, 3, 3, 3, 3, 3,\n",
       "       3, 3, 3, 3, 3, 3, 3, 3, 3, 3, 3, 3, 3, 3, 3, 3, 3, 3, 3, 3, 3, 3,\n",
       "       3, 3, 3, 3, 3, 3, 3, 3, 3, 3, 3, 3, 3, 3, 3, 3, 3, 3, 3, 3, 3, 3,\n",
       "       3, 3, 3, 3, 3, 3, 3, 3, 3, 3, 3, 3, 3, 3, 3, 3, 3, 3, 3, 3, 3, 3,\n",
       "       3, 3, 3, 3, 3, 3, 3, 3, 3, 3, 3, 3, 3, 3, 3, 3, 3, 3, 3, 3, 3, 3,\n",
       "       3, 3, 3, 3, 3, 3, 3, 3, 3, 3, 3, 3, 3, 3, 3, 3, 3, 3, 3, 3, 3, 3,\n",
       "       3, 3, 3, 3, 3, 3, 3, 3, 3, 3, 3, 3, 3, 3, 3, 3, 3, 3, 3, 3, 3, 3,\n",
       "       3, 3, 3, 3, 3, 3, 3, 3, 3, 3, 3, 3, 3, 3, 3, 3, 3, 3, 3, 3, 3, 3,\n",
       "       3, 3, 3, 3, 3, 3, 3, 3, 3, 3, 3, 3, 5, 5, 5, 5, 5, 5, 5, 5, 5, 5,\n",
       "       5, 5, 5, 5, 5, 5, 5, 5, 5, 5, 5, 5, 5, 5, 5, 5, 5, 5, 5, 5, 5, 5,\n",
       "       5, 5, 5, 5, 5, 5, 5, 5, 5, 5, 5, 5, 5, 5, 5, 5])"
      ]
     },
     "execution_count": 42,
     "metadata": {},
     "output_type": "execute_result"
    }
   ],
   "source": [
    "le.fit(few_viewership['Occupation'])\n",
    "x_Occupation= le.transform(few_viewership['Occupation'])\n",
    "x_Occupation"
   ]
  },
  {
   "cell_type": "code",
   "execution_count": 43,
   "id": "stuffed-street",
   "metadata": {},
   "outputs": [],
   "source": [
    "#Feature Selection"
   ]
  },
  {
   "cell_type": "code",
   "execution_count": 44,
   "id": "imperial-package",
   "metadata": {},
   "outputs": [
    {
     "name": "stderr",
     "output_type": "stream",
     "text": [
      "D:\\Anaconda\\lib\\site-packages\\ipykernel_launcher.py:1: SettingWithCopyWarning: \n",
      "A value is trying to be set on a copy of a slice from a DataFrame.\n",
      "Try using .loc[row_indexer,col_indexer] = value instead\n",
      "\n",
      "See the caveats in the documentation: https://pandas.pydata.org/pandas-docs/stable/user_guide/indexing.html#returning-a-view-versus-a-copy\n",
      "  \"\"\"Entry point for launching an IPython kernel.\n",
      "D:\\Anaconda\\lib\\site-packages\\ipykernel_launcher.py:2: SettingWithCopyWarning: \n",
      "A value is trying to be set on a copy of a slice from a DataFrame.\n",
      "Try using .loc[row_indexer,col_indexer] = value instead\n",
      "\n",
      "See the caveats in the documentation: https://pandas.pydata.org/pandas-docs/stable/user_guide/indexing.html#returning-a-view-versus-a-copy\n",
      "  \n",
      "D:\\Anaconda\\lib\\site-packages\\ipykernel_launcher.py:3: SettingWithCopyWarning: \n",
      "A value is trying to be set on a copy of a slice from a DataFrame.\n",
      "Try using .loc[row_indexer,col_indexer] = value instead\n",
      "\n",
      "See the caveats in the documentation: https://pandas.pydata.org/pandas-docs/stable/user_guide/indexing.html#returning-a-view-versus-a-copy\n",
      "  This is separate from the ipykernel package so we can avoid doing imports until\n"
     ]
    }
   ],
   "source": [
    "few_viewership['New_MovieID']=x_movie\n",
    "few_viewership['New_Age']=x_age\n",
    "few_viewership['New_Occupation']=x_Occupation"
   ]
  },
  {
   "cell_type": "code",
   "execution_count": 48,
   "id": "sufficient-consciousness",
   "metadata": {},
   "outputs": [],
   "source": [
    "#Use rating as label"
   ]
  },
  {
   "cell_type": "code",
   "execution_count": 45,
   "id": "smooth-delta",
   "metadata": {},
   "outputs": [],
   "source": [
    "x_input=few_viewership[['New_MovieID','New_Age','New_Occupation']]\n",
    "y_input=few_viewership['Rating']"
   ]
  },
  {
   "cell_type": "code",
   "execution_count": 46,
   "id": "classical-fence",
   "metadata": {},
   "outputs": [
    {
     "data": {
      "text/html": [
       "<div>\n",
       "<style scoped>\n",
       "    .dataframe tbody tr th:only-of-type {\n",
       "        vertical-align: middle;\n",
       "    }\n",
       "\n",
       "    .dataframe tbody tr th {\n",
       "        vertical-align: top;\n",
       "    }\n",
       "\n",
       "    .dataframe thead th {\n",
       "        text-align: right;\n",
       "    }\n",
       "</style>\n",
       "<table border=\"1\" class=\"dataframe\">\n",
       "  <thead>\n",
       "    <tr style=\"text-align: right;\">\n",
       "      <th></th>\n",
       "      <th>New_MovieID</th>\n",
       "      <th>New_Age</th>\n",
       "      <th>New_Occupation</th>\n",
       "    </tr>\n",
       "  </thead>\n",
       "  <tbody>\n",
       "    <tr>\n",
       "      <th>0</th>\n",
       "      <td>31</td>\n",
       "      <td>0</td>\n",
       "      <td>0</td>\n",
       "    </tr>\n",
       "    <tr>\n",
       "      <th>1</th>\n",
       "      <td>391</td>\n",
       "      <td>0</td>\n",
       "      <td>0</td>\n",
       "    </tr>\n",
       "    <tr>\n",
       "      <th>2</th>\n",
       "      <td>408</td>\n",
       "      <td>0</td>\n",
       "      <td>0</td>\n",
       "    </tr>\n",
       "    <tr>\n",
       "      <th>3</th>\n",
       "      <td>301</td>\n",
       "      <td>0</td>\n",
       "      <td>0</td>\n",
       "    </tr>\n",
       "    <tr>\n",
       "      <th>4</th>\n",
       "      <td>194</td>\n",
       "      <td>0</td>\n",
       "      <td>0</td>\n",
       "    </tr>\n",
       "  </tbody>\n",
       "</table>\n",
       "</div>"
      ],
      "text/plain": [
       "   New_MovieID  New_Age  New_Occupation\n",
       "0           31        0               0\n",
       "1          391        0               0\n",
       "2          408        0               0\n",
       "3          301        0               0\n",
       "4          194        0               0"
      ]
     },
     "execution_count": 46,
     "metadata": {},
     "output_type": "execute_result"
    }
   ],
   "source": [
    "x_input.head()"
   ]
  },
  {
   "cell_type": "code",
   "execution_count": 47,
   "id": "bridal-macro",
   "metadata": {},
   "outputs": [
    {
     "data": {
      "text/plain": [
       "0    5\n",
       "1    3\n",
       "2    3\n",
       "3    4\n",
       "4    5\n",
       "Name: Rating, dtype: object"
      ]
     },
     "execution_count": 47,
     "metadata": {},
     "output_type": "execute_result"
    }
   ],
   "source": [
    "y_input.head()"
   ]
  },
  {
   "cell_type": "markdown",
   "id": "enhanced-lodging",
   "metadata": {},
   "source": [
    "# Create train and test data set "
   ]
  },
  {
   "cell_type": "code",
   "execution_count": 50,
   "id": "progressive-microphone",
   "metadata": {},
   "outputs": [],
   "source": [
    "from sklearn.model_selection import train_test_split\n",
    "from sklearn.metrics import accuracy_score\n",
    "from sklearn.linear_model import LogisticRegression\n"
   ]
  },
  {
   "cell_type": "code",
   "execution_count": 51,
   "id": "developing-impact",
   "metadata": {},
   "outputs": [],
   "source": [
    "X_train,X_test,Y_train,Y_test=train_test_split(x_input,y_input,test_size=0.25,random_state=40)"
   ]
  },
  {
   "cell_type": "code",
   "execution_count": 52,
   "id": "tropical-macedonia",
   "metadata": {},
   "outputs": [],
   "source": [
    "lr= LogisticRegression()"
   ]
  },
  {
   "cell_type": "code",
   "execution_count": 53,
   "id": "indonesian-passage",
   "metadata": {},
   "outputs": [
    {
     "name": "stderr",
     "output_type": "stream",
     "text": [
      "D:\\Anaconda\\lib\\site-packages\\sklearn\\linear_model\\logistic.py:433: FutureWarning: Default solver will be changed to 'lbfgs' in 0.22. Specify a solver to silence this warning.\n",
      "  FutureWarning)\n",
      "D:\\Anaconda\\lib\\site-packages\\sklearn\\linear_model\\logistic.py:460: FutureWarning: Default multi_class will be changed to 'auto' in 0.22. Specify the multi_class option to silence this warning.\n",
      "  \"this warning.\", FutureWarning)\n"
     ]
    },
    {
     "data": {
      "text/plain": [
       "LogisticRegression(C=1.0, class_weight=None, dual=False, fit_intercept=True,\n",
       "          intercept_scaling=1, max_iter=100, multi_class='warn',\n",
       "          n_jobs=None, penalty='l2', random_state=None, solver='warn',\n",
       "          tol=0.0001, verbose=0, warm_start=False)"
      ]
     },
     "execution_count": 53,
     "metadata": {},
     "output_type": "execute_result"
    }
   ],
   "source": [
    "lr.fit(X_train,Y_train)"
   ]
  },
  {
   "cell_type": "code",
   "execution_count": 54,
   "id": "labeled-gates",
   "metadata": {},
   "outputs": [],
   "source": [
    "pred=lr.predict(X_test)"
   ]
  },
  {
   "cell_type": "code",
   "execution_count": 55,
   "id": "sporting-building",
   "metadata": {},
   "outputs": [
    {
     "name": "stdout",
     "output_type": "stream",
     "text": [
      "Accuracy 0.32\n"
     ]
    }
   ],
   "source": [
    "print('Accuracy',accuracy_score(Y_test,pred))"
   ]
  },
  {
   "cell_type": "code",
   "execution_count": null,
   "id": "selective-system",
   "metadata": {},
   "outputs": [],
   "source": [
    "#Create a histogram for movie, age, and occupation"
   ]
  },
  {
   "cell_type": "code",
   "execution_count": 72,
   "id": "indian-working",
   "metadata": {},
   "outputs": [
    {
     "data": {
      "image/png": "[encoded data removed]",
      "text/plain": [
       "<Figure size 720x360 with 3 Axes>"
      ]
     },
     "metadata": {
      "needs_background": "light"
     },
     "output_type": "display_data"
    }
   ],
   "source": [
    "fig, axes=plt.subplots(ncols=len(x_input.columns), figsize=(10,5))\n",
    "for col, ax in zip(x_input, axes):\n",
    "    x_input[col].value_counts().sort_index().plot.bar(ax=ax,title=col)\n",
    "plt.tight_layout()\n",
    "plt.show()"
   ]
  },
  {
   "cell_type": "code",
   "execution_count": null,
   "id": "respective-married",
   "metadata": {},
   "outputs": [],
   "source": []
  }
 ],
 "metadata": {
  "kernelspec": {
   "display_name": "Python 3",
   "language": "python",
   "name": "python3"
  },
  "language_info": {
   "codemirror_mode": {
    "name": "ipython",
    "version": 3
   },
   "file_extension": ".py",
   "mimetype": "text/x-python",
   "name": "python",
   "nbconvert_exporter": "python",
   "pygments_lexer": "ipython3",
   "version": "3.7.7"
  },
  "toc": {
   "base_numbering": 1,
   "nav_menu": {},
   "number_sections": true,
   "sideBar": true,
   "skip_h1_title": false,
   "title_cell": "Table of Contents",
   "title_sidebar": "Contents",
   "toc_cell": false,
   "toc_position": {},
   "toc_section_display": true,
   "toc_window_display": false
  }
 },
 "nbformat": 4,
 "nbformat_minor": 5
}
